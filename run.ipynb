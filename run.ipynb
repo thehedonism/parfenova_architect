{
 "cells": [
  {
   "cell_type": "code",
   "execution_count": 22,
   "metadata": {
    "collapsed": true,
    "ExecuteTime": {
     "end_time": "2023-11-07T17:56:13.421378Z",
     "start_time": "2023-11-07T17:56:13.414301Z"
    }
   },
   "outputs": [
    {
     "data": {
      "text/plain": "PosixPath('index.html')"
     },
     "execution_count": 22,
     "metadata": {},
     "output_type": "execute_result"
    }
   ],
   "source": [
    "from utils import write_file\n",
    "\n",
    "import pathlib\n",
    "\n",
    "root = pathlib.Path.cwd()\n",
    "store = pathlib.Path(root.name)\n",
    "\n",
    "media_suffixes = [\n",
    "    '.jpg',\n",
    "    '.jpeg',\n",
    "    '.mp4',\n",
    "]\n",
    "\n",
    "media_files = list(filter(lambda file: file.suffix in media_suffixes, store.iterdir()))\n",
    "\n",
    "media_files = sorted(media_files, reverse=True)\n",
    "\n",
    "\n",
    "text_output = ''\n",
    "\n",
    "text_output += f'## {store.name}'\n",
    "\n",
    "text_output += '\\n'\n",
    "text_output += '\\n'\n",
    "\n",
    "link = f'https://www.instagram.com/{store.name}/'\n",
    "\n",
    "text_output += f'[{link}]({link})'\n",
    "\n",
    "text_output += '\\n'\n",
    "text_output += '\\n'\n",
    "\n",
    "text_output += f'### Media'\n",
    "\n",
    "text_output += '\\n'\n",
    "text_output += '\\n'\n",
    "\n",
    "for file in media_files:\n",
    "    text_output += f'[{file.name}]({file})'\n",
    "    text_output += '\\n'\n",
    "    text_output += '\\n'\n",
    "\n",
    "write_file('index.html', text_output)\n",
    "\n"
   ]
  },
  {
   "cell_type": "code",
   "execution_count": null,
   "outputs": [],
   "source": [],
   "metadata": {
    "collapsed": false
   }
  }
 ],
 "metadata": {
  "kernelspec": {
   "display_name": "Python 3",
   "language": "python",
   "name": "python3"
  },
  "language_info": {
   "codemirror_mode": {
    "name": "ipython",
    "version": 2
   },
   "file_extension": ".py",
   "mimetype": "text/x-python",
   "name": "python",
   "nbconvert_exporter": "python",
   "pygments_lexer": "ipython2",
   "version": "2.7.6"
  }
 },
 "nbformat": 4,
 "nbformat_minor": 0
}
